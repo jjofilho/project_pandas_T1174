{
 "cells": [
  {
   "cell_type": "markdown",
   "metadata": {},
   "source": [
    "## Importando Bibliotecas"
   ]
  },
  {
   "cell_type": "code",
   "execution_count": 2,
   "metadata": {},
   "outputs": [],
   "source": [
    "import numpy as np\n",
    "import pandas as pd\n",
    "import matplotlib.pyplot as plt\n",
    "import seaborn as sns\n",
    "%matplotlib inline"
   ]
  },
  {
   "cell_type": "markdown",
   "metadata": {},
   "source": [
    "## Funções"
   ]
  },
  {
   "cell_type": "code",
   "execution_count": 1,
   "metadata": {},
   "outputs": [],
   "source": []
  },
  {
   "cell_type": "markdown",
   "metadata": {},
   "source": [
    "## Carregando a Base"
   ]
  },
  {
   "cell_type": "code",
   "execution_count": 7,
   "metadata": {},
   "outputs": [],
   "source": [
    "# Caso \n",
    "df = pd.read_csv(\"./Bases/base.csv\")"
   ]
  },
  {
   "cell_type": "markdown",
   "metadata": {},
   "source": [
    "## Análise Exploratória"
   ]
  },
  {
   "cell_type": "code",
   "execution_count": 10,
   "metadata": {},
   "outputs": [],
   "source": [
    "# Convertendo Coluna date para datetime\n",
    "df['date'] = pd.to_datetime(df['date'], format='%Y-%m-%d')\n",
    "\n",
    "# Ordenar o dataframe por state e date para garantir que as datas estejam em ordem\n",
    "df = df.sort_values(by=['state', 'date'])\n",
    "\n",
    "# Agrupar por estado e calcular a diferença dia a dia\n",
    "df['confirmed_daily'] = df.groupby('state')['confirmed'].diff().fillna(df['confirmed'])\n",
    "df['deaths_daily'] = df.groupby('state')['deaths'].diff().fillna(df['deaths'])\n",
    "df['death_rate_daily'] = df['deaths_daily'] / df['confirmed_daily']"
   ]
  },
  {
   "cell_type": "code",
   "execution_count": 11,
   "metadata": {},
   "outputs": [
    {
     "name": "stderr",
     "output_type": "stream",
     "text": [
      "c:\\Users\\dupga\\AppData\\Local\\Programs\\Python\\Python312\\Lib\\site-packages\\pandas\\core\\nanops.py:1010: RuntimeWarning: invalid value encountered in subtract\n",
      "  sqr = _ensure_numeric((avg - values) ** 2)\n"
     ]
    },
    {
     "data": {
      "text/html": [
       "<div>\n",
       "<style scoped>\n",
       "    .dataframe tbody tr th:only-of-type {\n",
       "        vertical-align: middle;\n",
       "    }\n",
       "\n",
       "    .dataframe tbody tr th {\n",
       "        vertical-align: top;\n",
       "    }\n",
       "\n",
       "    .dataframe thead th {\n",
       "        text-align: right;\n",
       "    }\n",
       "</style>\n",
       "<table border=\"1\" class=\"dataframe\">\n",
       "  <thead>\n",
       "    <tr style=\"text-align: right;\">\n",
       "      <th></th>\n",
       "      <th>count</th>\n",
       "      <th>mean</th>\n",
       "      <th>min</th>\n",
       "      <th>25%</th>\n",
       "      <th>50%</th>\n",
       "      <th>75%</th>\n",
       "      <th>max</th>\n",
       "      <th>std</th>\n",
       "    </tr>\n",
       "  </thead>\n",
       "  <tbody>\n",
       "    <tr>\n",
       "      <th>date</th>\n",
       "      <td>19762</td>\n",
       "      <td>2021-03-17 23:14:49.343183872</td>\n",
       "      <td>2020-02-25 00:00:00</td>\n",
       "      <td>2020-09-14 00:00:00</td>\n",
       "      <td>2021-03-17 00:00:00</td>\n",
       "      <td>2021-09-17 00:00:00</td>\n",
       "      <td>2022-03-27 00:00:00</td>\n",
       "      <td>NaN</td>\n",
       "    </tr>\n",
       "    <tr>\n",
       "      <th>confirmed</th>\n",
       "      <td>19762.0</td>\n",
       "      <td>465498.105354</td>\n",
       "      <td>0.0</td>\n",
       "      <td>85816.5</td>\n",
       "      <td>244257.5</td>\n",
       "      <td>539522.75</td>\n",
       "      <td>5232374.0</td>\n",
       "      <td>688475.302036</td>\n",
       "    </tr>\n",
       "    <tr>\n",
       "      <th>deaths</th>\n",
       "      <td>19762.0</td>\n",
       "      <td>12465.451624</td>\n",
       "      <td>0.0</td>\n",
       "      <td>1842.0</td>\n",
       "      <td>6043.5</td>\n",
       "      <td>13558.5</td>\n",
       "      <td>167110.0</td>\n",
       "      <td>21652.086659</td>\n",
       "    </tr>\n",
       "    <tr>\n",
       "      <th>order_for_place</th>\n",
       "      <td>19762.0</td>\n",
       "      <td>366.612337</td>\n",
       "      <td>1.0</td>\n",
       "      <td>183.25</td>\n",
       "      <td>366.0</td>\n",
       "      <td>549.0</td>\n",
       "      <td>750.0</td>\n",
       "      <td>211.548197</td>\n",
       "    </tr>\n",
       "    <tr>\n",
       "      <th>estimated_population</th>\n",
       "      <td>19762.0</td>\n",
       "      <td>7913264.095233</td>\n",
       "      <td>631181.0</td>\n",
       "      <td>2809394.0</td>\n",
       "      <td>4064052.0</td>\n",
       "      <td>9616621.0</td>\n",
       "      <td>46289333.0</td>\n",
       "      <td>9188175.447382</td>\n",
       "    </tr>\n",
       "    <tr>\n",
       "      <th>confirmed_per_100k_inhabitants</th>\n",
       "      <td>19756.0</td>\n",
       "      <td>6951.675635</td>\n",
       "      <td>0.00216</td>\n",
       "      <td>2355.830548</td>\n",
       "      <td>6128.78199</td>\n",
       "      <td>10544.970693</td>\n",
       "      <td>25521.03172</td>\n",
       "      <td>5490.161951</td>\n",
       "    </tr>\n",
       "    <tr>\n",
       "      <th>death_rate</th>\n",
       "      <td>19762.0</td>\n",
       "      <td>0.02639</td>\n",
       "      <td>0.0</td>\n",
       "      <td>0.0195</td>\n",
       "      <td>0.0234</td>\n",
       "      <td>0.0281</td>\n",
       "      <td>0.2222</td>\n",
       "      <td>0.014829</td>\n",
       "    </tr>\n",
       "    <tr>\n",
       "      <th>confirmed_daily</th>\n",
       "      <td>19762.0</td>\n",
       "      <td>1510.461492</td>\n",
       "      <td>-12028.0</td>\n",
       "      <td>189.0</td>\n",
       "      <td>618.0</td>\n",
       "      <td>1535.75</td>\n",
       "      <td>105200.0</td>\n",
       "      <td>3032.264866</td>\n",
       "    </tr>\n",
       "    <tr>\n",
       "      <th>deaths_daily</th>\n",
       "      <td>19762.0</td>\n",
       "      <td>33.354873</td>\n",
       "      <td>-84.0</td>\n",
       "      <td>3.0</td>\n",
       "      <td>11.0</td>\n",
       "      <td>31.0</td>\n",
       "      <td>1389.0</td>\n",
       "      <td>74.475117</td>\n",
       "    </tr>\n",
       "    <tr>\n",
       "      <th>death_rate_daily</th>\n",
       "      <td>19574.0</td>\n",
       "      <td>inf</td>\n",
       "      <td>-0.972727</td>\n",
       "      <td>0.009317</td>\n",
       "      <td>0.01989</td>\n",
       "      <td>0.035831</td>\n",
       "      <td>inf</td>\n",
       "      <td>NaN</td>\n",
       "    </tr>\n",
       "  </tbody>\n",
       "</table>\n",
       "</div>"
      ],
      "text/plain": [
       "                                  count                           mean  \\\n",
       "date                              19762  2021-03-17 23:14:49.343183872   \n",
       "confirmed                       19762.0                  465498.105354   \n",
       "deaths                          19762.0                   12465.451624   \n",
       "order_for_place                 19762.0                     366.612337   \n",
       "estimated_population            19762.0                 7913264.095233   \n",
       "confirmed_per_100k_inhabitants  19756.0                    6951.675635   \n",
       "death_rate                      19762.0                        0.02639   \n",
       "confirmed_daily                 19762.0                    1510.461492   \n",
       "deaths_daily                    19762.0                      33.354873   \n",
       "death_rate_daily                19574.0                            inf   \n",
       "\n",
       "                                                min                  25%  \\\n",
       "date                            2020-02-25 00:00:00  2020-09-14 00:00:00   \n",
       "confirmed                                       0.0              85816.5   \n",
       "deaths                                          0.0               1842.0   \n",
       "order_for_place                                 1.0               183.25   \n",
       "estimated_population                       631181.0            2809394.0   \n",
       "confirmed_per_100k_inhabitants              0.00216          2355.830548   \n",
       "death_rate                                      0.0               0.0195   \n",
       "confirmed_daily                            -12028.0                189.0   \n",
       "deaths_daily                                  -84.0                  3.0   \n",
       "death_rate_daily                          -0.972727             0.009317   \n",
       "\n",
       "                                                50%                  75%  \\\n",
       "date                            2021-03-17 00:00:00  2021-09-17 00:00:00   \n",
       "confirmed                                  244257.5            539522.75   \n",
       "deaths                                       6043.5              13558.5   \n",
       "order_for_place                               366.0                549.0   \n",
       "estimated_population                      4064052.0            9616621.0   \n",
       "confirmed_per_100k_inhabitants           6128.78199         10544.970693   \n",
       "death_rate                                   0.0234               0.0281   \n",
       "confirmed_daily                               618.0              1535.75   \n",
       "deaths_daily                                   11.0                 31.0   \n",
       "death_rate_daily                            0.01989             0.035831   \n",
       "\n",
       "                                                max             std  \n",
       "date                            2022-03-27 00:00:00             NaN  \n",
       "confirmed                                 5232374.0   688475.302036  \n",
       "deaths                                     167110.0    21652.086659  \n",
       "order_for_place                               750.0      211.548197  \n",
       "estimated_population                     46289333.0  9188175.447382  \n",
       "confirmed_per_100k_inhabitants          25521.03172     5490.161951  \n",
       "death_rate                                   0.2222        0.014829  \n",
       "confirmed_daily                            105200.0     3032.264866  \n",
       "deaths_daily                                 1389.0       74.475117  \n",
       "death_rate_daily                                inf             NaN  "
      ]
     },
     "execution_count": 11,
     "metadata": {},
     "output_type": "execute_result"
    }
   ],
   "source": [
    "df.describe().T"
   ]
  },
  {
   "cell_type": "markdown",
   "metadata": {},
   "source": [
    "- Verificando Nulos"
   ]
  },
  {
   "cell_type": "code",
   "execution_count": 12,
   "metadata": {},
   "outputs": [
    {
     "data": {
      "text/plain": [
       "date                              0\n",
       "state                             0\n",
       "confirmed                         0\n",
       "deaths                            0\n",
       "order_for_place                   0\n",
       "is_last                           0\n",
       "estimated_population              0\n",
       "confirmed_per_100k_inhabitants    6\n",
       "death_rate                        0\n",
       "confirmed_daily                   0\n",
       "deaths_daily                      0\n",
       "dtype: int64"
      ]
     },
     "execution_count": 12,
     "metadata": {},
     "output_type": "execute_result"
    }
   ],
   "source": [
    "df.isnull().sum()"
   ]
  },
  {
   "cell_type": "markdown",
   "metadata": {},
   "source": [
    "- Eliminando Duplicadas"
   ]
  },
  {
   "cell_type": "code",
   "execution_count": 13,
   "metadata": {},
   "outputs": [
    {
     "data": {
      "text/html": [
       "<div>\n",
       "<style scoped>\n",
       "    .dataframe tbody tr th:only-of-type {\n",
       "        vertical-align: middle;\n",
       "    }\n",
       "\n",
       "    .dataframe tbody tr th {\n",
       "        vertical-align: top;\n",
       "    }\n",
       "\n",
       "    .dataframe thead th {\n",
       "        text-align: right;\n",
       "    }\n",
       "</style>\n",
       "<table border=\"1\" class=\"dataframe\">\n",
       "  <thead>\n",
       "    <tr style=\"text-align: right;\">\n",
       "      <th></th>\n",
       "      <th>date</th>\n",
       "      <th>state</th>\n",
       "      <th>confirmed</th>\n",
       "      <th>deaths</th>\n",
       "      <th>order_for_place</th>\n",
       "      <th>is_last</th>\n",
       "      <th>estimated_population</th>\n",
       "      <th>confirmed_per_100k_inhabitants</th>\n",
       "      <th>death_rate</th>\n",
       "      <th>confirmed_daily</th>\n",
       "      <th>deaths_daily</th>\n",
       "    </tr>\n",
       "  </thead>\n",
       "  <tbody>\n",
       "    <tr>\n",
       "      <th>1455</th>\n",
       "      <td>2020-03-17</td>\n",
       "      <td>AC</td>\n",
       "      <td>3</td>\n",
       "      <td>0</td>\n",
       "      <td>1</td>\n",
       "      <td>False</td>\n",
       "      <td>894470.0</td>\n",
       "      <td>0.33539</td>\n",
       "      <td>0.0000</td>\n",
       "      <td>3.0</td>\n",
       "      <td>0.0</td>\n",
       "    </tr>\n",
       "    <tr>\n",
       "      <th>1454</th>\n",
       "      <td>2020-03-18</td>\n",
       "      <td>AC</td>\n",
       "      <td>3</td>\n",
       "      <td>0</td>\n",
       "      <td>2</td>\n",
       "      <td>False</td>\n",
       "      <td>894470.0</td>\n",
       "      <td>0.33539</td>\n",
       "      <td>0.0000</td>\n",
       "      <td>0.0</td>\n",
       "      <td>0.0</td>\n",
       "    </tr>\n",
       "    <tr>\n",
       "      <th>1453</th>\n",
       "      <td>2020-03-19</td>\n",
       "      <td>AC</td>\n",
       "      <td>4</td>\n",
       "      <td>0</td>\n",
       "      <td>3</td>\n",
       "      <td>False</td>\n",
       "      <td>894470.0</td>\n",
       "      <td>0.44719</td>\n",
       "      <td>0.0000</td>\n",
       "      <td>1.0</td>\n",
       "      <td>0.0</td>\n",
       "    </tr>\n",
       "    <tr>\n",
       "      <th>1452</th>\n",
       "      <td>2020-03-20</td>\n",
       "      <td>AC</td>\n",
       "      <td>7</td>\n",
       "      <td>0</td>\n",
       "      <td>4</td>\n",
       "      <td>False</td>\n",
       "      <td>894470.0</td>\n",
       "      <td>0.78259</td>\n",
       "      <td>0.0000</td>\n",
       "      <td>3.0</td>\n",
       "      <td>0.0</td>\n",
       "    </tr>\n",
       "    <tr>\n",
       "      <th>1451</th>\n",
       "      <td>2020-03-21</td>\n",
       "      <td>AC</td>\n",
       "      <td>11</td>\n",
       "      <td>0</td>\n",
       "      <td>5</td>\n",
       "      <td>False</td>\n",
       "      <td>894470.0</td>\n",
       "      <td>1.22978</td>\n",
       "      <td>0.0000</td>\n",
       "      <td>4.0</td>\n",
       "      <td>0.0</td>\n",
       "    </tr>\n",
       "    <tr>\n",
       "      <th>...</th>\n",
       "      <td>...</td>\n",
       "      <td>...</td>\n",
       "      <td>...</td>\n",
       "      <td>...</td>\n",
       "      <td>...</td>\n",
       "      <td>...</td>\n",
       "      <td>...</td>\n",
       "      <td>...</td>\n",
       "      <td>...</td>\n",
       "      <td>...</td>\n",
       "      <td>...</td>\n",
       "    </tr>\n",
       "    <tr>\n",
       "      <th>17597</th>\n",
       "      <td>2022-03-21</td>\n",
       "      <td>TO</td>\n",
       "      <td>302166</td>\n",
       "      <td>4141</td>\n",
       "      <td>690</td>\n",
       "      <td>False</td>\n",
       "      <td>1590248.0</td>\n",
       "      <td>19001.18724</td>\n",
       "      <td>0.0137</td>\n",
       "      <td>300.0</td>\n",
       "      <td>1.0</td>\n",
       "    </tr>\n",
       "    <tr>\n",
       "      <th>17596</th>\n",
       "      <td>2022-03-22</td>\n",
       "      <td>TO</td>\n",
       "      <td>302289</td>\n",
       "      <td>4141</td>\n",
       "      <td>691</td>\n",
       "      <td>False</td>\n",
       "      <td>1590248.0</td>\n",
       "      <td>19008.92188</td>\n",
       "      <td>0.0137</td>\n",
       "      <td>123.0</td>\n",
       "      <td>0.0</td>\n",
       "    </tr>\n",
       "    <tr>\n",
       "      <th>17595</th>\n",
       "      <td>2022-03-23</td>\n",
       "      <td>TO</td>\n",
       "      <td>302387</td>\n",
       "      <td>4142</td>\n",
       "      <td>692</td>\n",
       "      <td>False</td>\n",
       "      <td>1590248.0</td>\n",
       "      <td>19015.08444</td>\n",
       "      <td>0.0137</td>\n",
       "      <td>98.0</td>\n",
       "      <td>1.0</td>\n",
       "    </tr>\n",
       "    <tr>\n",
       "      <th>17594</th>\n",
       "      <td>2022-03-24</td>\n",
       "      <td>TO</td>\n",
       "      <td>302443</td>\n",
       "      <td>4142</td>\n",
       "      <td>693</td>\n",
       "      <td>False</td>\n",
       "      <td>1590248.0</td>\n",
       "      <td>19018.60590</td>\n",
       "      <td>0.0137</td>\n",
       "      <td>56.0</td>\n",
       "      <td>0.0</td>\n",
       "    </tr>\n",
       "    <tr>\n",
       "      <th>17593</th>\n",
       "      <td>2022-03-25</td>\n",
       "      <td>TO</td>\n",
       "      <td>302502</td>\n",
       "      <td>4142</td>\n",
       "      <td>694</td>\n",
       "      <td>True</td>\n",
       "      <td>1590248.0</td>\n",
       "      <td>19022.31602</td>\n",
       "      <td>0.0137</td>\n",
       "      <td>59.0</td>\n",
       "      <td>0.0</td>\n",
       "    </tr>\n",
       "  </tbody>\n",
       "</table>\n",
       "<p>19762 rows × 11 columns</p>\n",
       "</div>"
      ],
      "text/plain": [
       "            date state  confirmed  deaths  order_for_place  is_last  \\\n",
       "1455  2020-03-17    AC          3       0                1    False   \n",
       "1454  2020-03-18    AC          3       0                2    False   \n",
       "1453  2020-03-19    AC          4       0                3    False   \n",
       "1452  2020-03-20    AC          7       0                4    False   \n",
       "1451  2020-03-21    AC         11       0                5    False   \n",
       "...          ...   ...        ...     ...              ...      ...   \n",
       "17597 2022-03-21    TO     302166    4141              690    False   \n",
       "17596 2022-03-22    TO     302289    4141              691    False   \n",
       "17595 2022-03-23    TO     302387    4142              692    False   \n",
       "17594 2022-03-24    TO     302443    4142              693    False   \n",
       "17593 2022-03-25    TO     302502    4142              694     True   \n",
       "\n",
       "       estimated_population  confirmed_per_100k_inhabitants  death_rate  \\\n",
       "1455               894470.0                         0.33539      0.0000   \n",
       "1454               894470.0                         0.33539      0.0000   \n",
       "1453               894470.0                         0.44719      0.0000   \n",
       "1452               894470.0                         0.78259      0.0000   \n",
       "1451               894470.0                         1.22978      0.0000   \n",
       "...                     ...                             ...         ...   \n",
       "17597             1590248.0                     19001.18724      0.0137   \n",
       "17596             1590248.0                     19008.92188      0.0137   \n",
       "17595             1590248.0                     19015.08444      0.0137   \n",
       "17594             1590248.0                     19018.60590      0.0137   \n",
       "17593             1590248.0                     19022.31602      0.0137   \n",
       "\n",
       "       confirmed_daily  deaths_daily  \n",
       "1455               3.0           0.0  \n",
       "1454               0.0           0.0  \n",
       "1453               1.0           0.0  \n",
       "1452               3.0           0.0  \n",
       "1451               4.0           0.0  \n",
       "...                ...           ...  \n",
       "17597            300.0           1.0  \n",
       "17596            123.0           0.0  \n",
       "17595             98.0           1.0  \n",
       "17594             56.0           0.0  \n",
       "17593             59.0           0.0  \n",
       "\n",
       "[19762 rows x 11 columns]"
      ]
     },
     "execution_count": 13,
     "metadata": {},
     "output_type": "execute_result"
    }
   ],
   "source": [
    "df.drop_duplicates()"
   ]
  },
  {
   "cell_type": "markdown",
   "metadata": {},
   "source": [
    "##"
   ]
  },
  {
   "cell_type": "markdown",
   "metadata": {},
   "source": [
    "## Análise Univariada"
   ]
  },
  {
   "cell_type": "markdown",
   "metadata": {},
   "source": [
    "- Date"
   ]
  },
  {
   "cell_type": "code",
   "execution_count": 14,
   "metadata": {},
   "outputs": [
    {
     "name": "stdout",
     "output_type": "stream",
     "text": [
      "Date mínimo = 2020-02-25 00:00:00\n",
      "Date máximo = 2022-03-27 00:00:00\n"
     ]
    }
   ],
   "source": [
    "print(f\"Date mínimo = {df['date'].min()}\")\n",
    "print(f\"Date máximo = {df['date'].max()}\")"
   ]
  },
  {
   "cell_type": "markdown",
   "metadata": {},
   "source": [
    "- estimated_population"
   ]
  },
  {
   "cell_type": "code",
   "execution_count": 15,
   "metadata": {},
   "outputs": [
    {
     "data": {
      "text/plain": [
       "<Axes: >"
      ]
     },
     "execution_count": 15,
     "metadata": {},
     "output_type": "execute_result"
    },
    {
     "data": {
      "image/png": "[encoded data removed]",
      "text/plain": [
       "<Figure size 640x480 with 1 Axes>"
      ]
     },
     "metadata": {},
     "output_type": "display_data"
    }
   ],
   "source": [
    "df['estimated_population'].hist()"
   ]
  },
  {
   "cell_type": "markdown",
   "metadata": {},
   "source": [
    "- confirmed_daily e deaths_Daily"
   ]
  },
  {
   "cell_type": "code",
   "execution_count": 25,
   "metadata": {},
   "outputs": [
    {
     "data": {
      "text/plain": [
       "<Axes: >"
      ]
     },
     "execution_count": 25,
     "metadata": {},
     "output_type": "execute_result"
    },
    {
     "data": {
      "image/png": "[encoded data removed]",
      "text/plain": [
       "<Figure size 640x480 with 1 Axes>"
      ]
     },
     "metadata": {},
     "output_type": "display_data"
    }
   ],
   "source": [
    "df['confirmed_daily'].hist()"
   ]
  },
  {
   "cell_type": "code",
   "execution_count": 26,
   "metadata": {},
   "outputs": [
    {
     "data": {
      "text/plain": [
       "<Axes: >"
      ]
     },
     "execution_count": 26,
     "metadata": {},
     "output_type": "execute_result"
    },
    {
     "data": {
      "image/png": "[encoded data removed]",
      "text/plain": [
       "<Figure size 640x480 with 1 Axes>"
      ]
     },
     "metadata": {},
     "output_type": "display_data"
    }
   ],
   "source": [
    "df['deaths_daily'].hist()"
   ]
  },
  {
   "cell_type": "markdown",
   "metadata": {},
   "source": [
    "## Análise Bivariada"
   ]
  },
  {
   "cell_type": "code",
   "execution_count": null,
   "metadata": {},
   "outputs": [],
   "source": []
  }
 ],
 "metadata": {
  "kernelspec": {
   "display_name": "Python 3",
   "language": "python",
   "name": "python3"
  },
  "language_info": {
   "codemirror_mode": {
    "name": "ipython",
    "version": 3
   },
   "file_extension": ".py",
   "mimetype": "text/x-python",
   "name": "python",
   "nbconvert_exporter": "python",
   "pygments_lexer": "ipython3",
   "version": "3.12.1"
  }
 },
 "nbformat": 4,
 "nbformat_minor": 2
}
